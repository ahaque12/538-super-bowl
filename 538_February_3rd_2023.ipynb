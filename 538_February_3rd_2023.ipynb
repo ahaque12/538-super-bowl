{
  "nbformat": 4,
  "nbformat_minor": 0,
  "metadata": {
    "colab": {
      "provenance": [],
      "authorship_tag": "ABX9TyPjbayFg4+69W/skTj+6LeV",
      "include_colab_link": true
    },
    "kernelspec": {
      "name": "python3",
      "display_name": "Python 3"
    },
    "language_info": {
      "name": "python"
    }
  },
  "cells": [
    {
      "cell_type": "markdown",
      "metadata": {
        "id": "view-in-github",
        "colab_type": "text"
      },
      "source": [
        "<a href=\"https://colab.research.google.com/github/ahaque12/538-super-bowl/blob/main/538_February_3rd_2023.ipynb\" target=\"_parent\"><img src=\"https://colab.research.google.com/assets/colab-badge.svg\" alt=\"Open In Colab\"/></a>"
      ]
    },
    {
      "cell_type": "markdown",
      "source": [
        "# 538 Riddler Express\n",
        "\n",
        "https://fivethirtyeight.com/features/can-you-take-down-all-the-bottles-of-beer/\n",
        "\n",
        "This week’s Express comes just in time for Super Bowl LVII:\n",
        "\n",
        "In football, a touchdown is worth six points, a one-point conversion is worth one point, a two-point conversion is worth two points, a field goal is worth three points and a safety is worth two points.2 A team may attempt a conversion only after it has scored a touchdown, and it must decide whether to attempt a one-point conversion or a two-point conversion.\n",
        "\n",
        "Some methods of scoring points are more common than others. So when a team has scored 14 points, it’s safe to assume that they scored two touchdowns and two one-point conversions. But that’s not necessarily how those 14 points were scored.\n",
        "\n",
        "Using the aforementioned methods of scoring, how many distinct ways can a team score 14 points? Note that the sequence in which a team scores these points doesn’t matter here. So scoring a field goal and then a safety is the same as a safety and then a field goal (i.e., there is only one distinct way a team can score 5 points).\n",
        "\n",
        "Extra credit: Using the aforementioned methods of scoring, how many distinct ways can a team score 28 points?"
      ],
      "metadata": {
        "id": "G44hY-KAbMC1"
      }
    },
    {
      "cell_type": "code",
      "source": [
        "from itertools import product"
      ],
      "metadata": {
        "id": "RLfJP9KaW620"
      },
      "execution_count": 3,
      "outputs": []
    },
    {
      "cell_type": "code",
      "source": [
        "N = 14"
      ],
      "metadata": {
        "id": "HAfefHYaXCEm"
      },
      "execution_count": 25,
      "outputs": []
    },
    {
      "cell_type": "code",
      "source": [
        "com = product(range(0, 1 + N // 6),\n",
        "              range(0, 1 + N // 2),\n",
        "              range(0, 1 + N // 1),\n",
        "              range(0, 1 + N // 3),\n",
        "              range(0, 1 + N // 2),\n",
        "                    )\n",
        "com = list(com)\n",
        "len(com)"
      ],
      "metadata": {
        "colab": {
          "base_uri": "https://localhost:8080/"
        },
        "id": "Gc-P9CaNX8FO",
        "outputId": "6089dfcf-d2b9-492d-ec15-1650631b2278"
      },
      "execution_count": 33,
      "outputs": [
        {
          "output_type": "execute_result",
          "data": {
            "text/plain": [
              "14400"
            ]
          },
          "metadata": {},
          "execution_count": 33
        }
      ]
    },
    {
      "cell_type": "code",
      "execution_count": 64,
      "metadata": {
        "colab": {
          "base_uri": "https://localhost:8080/",
          "height": 131
        },
        "id": "HIU8xqKNWyC3",
        "outputId": "7a303a57-2b9b-4eaa-c911-2e4712dc7e75"
      },
      "outputs": [
        {
          "output_type": "error",
          "ename": "IndentationError",
          "evalue": "ignored",
          "traceback": [
            "\u001b[0;36m  File \u001b[0;32m\"<ipython-input-64-ad268be97a85>\"\u001b[0;36m, line \u001b[0;32m4\u001b[0m\n\u001b[0;31m    if touchdowns < (one_convert + two_convert):\u001b[0m\n\u001b[0m    ^\u001b[0m\n\u001b[0;31mIndentationError\u001b[0m\u001b[0;31m:\u001b[0m unexpected indent\n"
          ]
        }
      ],
      "source": [
        "def validate(score, touchdowns, two_convert, one_convert, field_goals, safety):\n",
        "  \"\"\"Check if permutations of goal types is feasible.\n",
        "  \"\"\"\n",
        "    if touchdowns < (one_convert + two_convert):\n",
        "      return False\n",
        "\n",
        "    if 6*touchdowns + 2*two_convert + one_convert + 3*field_goals + 2*safety != score:\n",
        "      return False\n",
        "\n",
        "    return True\n",
        "\n",
        "def count_perms(score):\n",
        "  \"\"\"Number of permutations to get score.\n",
        "  \"\"\"\n",
        "\n",
        "  com = product(range(0, 1 + score // 6),\n",
        "              range(0, 1 + score // 2),\n",
        "              range(0, 1 + score // 1),\n",
        "              range(0, 1 + score // 3),\n",
        "              range(0, 1 + score // 2),\n",
        "                    )\n",
        "  \n",
        "  valid = list(filter(lambda x: validate(score, *x), com))\n",
        "  return len(valid)"
      ]
    },
    {
      "cell_type": "code",
      "source": [
        "com = product(range(0, 1 + N // 6),\n",
        "              range(0, 1 + N // 2),\n",
        "              range(0, 1 + N // 1),\n",
        "              range(0, 1 + N // 3),\n",
        "              range(0, 1 + N // 2),\n",
        "                    )"
      ],
      "metadata": {
        "id": "PnbP60lGgJt9"
      },
      "execution_count": null,
      "outputs": []
    },
    {
      "cell_type": "code",
      "source": [
        "valid = list(filter(lambda x: validate(N, *x), com))\n",
        "len(valid)"
      ],
      "metadata": {
        "colab": {
          "base_uri": "https://localhost:8080/"
        },
        "id": "rYujO18lZtqy",
        "outputId": "dbbbe65b-8ccd-4bf3-bcd9-cc7e70b8eee5"
      },
      "execution_count": 59,
      "outputs": [
        {
          "output_type": "execute_result",
          "data": {
            "text/plain": [
              "11"
            ]
          },
          "metadata": {},
          "execution_count": 59
        }
      ]
    },
    {
      "cell_type": "code",
      "source": [
        "valid"
      ],
      "metadata": {
        "colab": {
          "base_uri": "https://localhost:8080/"
        },
        "id": "RwxwLM29aIif",
        "outputId": "0b28eed4-3c70-404d-b361-1eb3cb7778c8"
      },
      "execution_count": 60,
      "outputs": [
        {
          "output_type": "execute_result",
          "data": {
            "text/plain": [
              "[(0, 0, 0, 0, 7),\n",
              " (0, 0, 0, 2, 4),\n",
              " (0, 0, 0, 4, 1),\n",
              " (1, 0, 0, 0, 4),\n",
              " (1, 0, 0, 2, 1),\n",
              " (1, 0, 1, 1, 2),\n",
              " (1, 1, 0, 0, 3),\n",
              " (1, 1, 0, 2, 0),\n",
              " (2, 0, 0, 0, 1),\n",
              " (2, 0, 2, 0, 0),\n",
              " (2, 1, 0, 0, 0)]"
            ]
          },
          "metadata": {},
          "execution_count": 60
        }
      ]
    },
    {
      "cell_type": "code",
      "source": [
        "print(\"There are {} ways to achieve a score of 14.\".format(count_perms(14)))"
      ],
      "metadata": {
        "colab": {
          "base_uri": "https://localhost:8080/"
        },
        "id": "5R3lO8o2gXQD",
        "outputId": "7e0473d6-e076-4cbf-86e7-015bfe96adad"
      },
      "execution_count": 67,
      "outputs": [
        {
          "output_type": "stream",
          "name": "stdout",
          "text": [
            "There are 11 ways to achieve a score of 14.\n"
          ]
        }
      ]
    },
    {
      "cell_type": "code",
      "source": [
        "print(\"There are {} ways to achieve a score of 5.\".format(count_perms(5)))"
      ],
      "metadata": {
        "colab": {
          "base_uri": "https://localhost:8080/"
        },
        "id": "ZzW5otxJga68",
        "outputId": "d98976f6-7bf3-4c2f-bb8b-a15fb0fbc0b7"
      },
      "execution_count": 68,
      "outputs": [
        {
          "output_type": "stream",
          "name": "stdout",
          "text": [
            "There are 1 ways to achieve a score of 5.\n"
          ]
        }
      ]
    },
    {
      "cell_type": "code",
      "source": [
        "print(\"There are {} ways to achieve a score of 28.\".format(count_perms(28)))"
      ],
      "metadata": {
        "colab": {
          "base_uri": "https://localhost:8080/"
        },
        "id": "Gm6Rvr0Kgeyt",
        "outputId": "eba342fe-f3a5-4d1d-e736-72691c048798"
      },
      "execution_count": 69,
      "outputs": [
        {
          "output_type": "stream",
          "name": "stdout",
          "text": [
            "There are 57 ways to achieve a score of 28.\n"
          ]
        }
      ]
    }
  ]
}